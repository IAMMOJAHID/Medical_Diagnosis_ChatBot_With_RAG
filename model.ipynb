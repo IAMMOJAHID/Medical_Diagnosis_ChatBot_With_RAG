{
 "cells": [
  {
   "cell_type": "code",
   "execution_count": 1,
   "metadata": {},
   "outputs": [
    {
     "name": "stdout",
     "output_type": "stream",
     "text": [
      "Collecting elasticsearchNote: you may need to restart the kernel to use updated packages.\n"
     ]
    },
    {
     "name": "stderr",
     "output_type": "stream",
     "text": [
      "WARNING: You are using pip version 20.2.3; however, version 24.0 is available.\n",
      "You should consider upgrading via the 'c:\\Users\\MOJAHID HUSSAIN\\AppData\\Local\\Programs\\Python\\Python39\\python.exe -m pip install --upgrade pip' command.\n"
     ]
    },
    {
     "name": "stdout",
     "output_type": "stream",
     "text": [
      "\n",
      "  Downloading elasticsearch-8.13.0-py3-none-any.whl (451 kB)\n",
      "Collecting elastic-transport<9,>=8.13\n",
      "  Downloading elastic_transport-8.13.0-py3-none-any.whl (64 kB)\n",
      "Requirement already satisfied: urllib3<3,>=1.26.2 in c:\\users\\mojahid hussain\\appdata\\local\\programs\\python\\python39\\lib\\site-packages (from elastic-transport<9,>=8.13->elasticsearch) (1.26.13)\n",
      "Requirement already satisfied: certifi in c:\\users\\mojahid hussain\\appdata\\local\\programs\\python\\python39\\lib\\site-packages (from elastic-transport<9,>=8.13->elasticsearch) (2022.12.7)\n",
      "Installing collected packages: elastic-transport, elasticsearch\n",
      "Successfully installed elastic-transport-8.13.0 elasticsearch-8.13.0\n"
     ]
    }
   ],
   "source": [
    "pip install elasticsearch"
   ]
  },
  {
   "cell_type": "code",
   "execution_count": 2,
   "metadata": {},
   "outputs": [
    {
     "name": "stdout",
     "output_type": "stream",
     "text": [
      "Note: you may need to restart the kernel to use updated packages.Requirement already satisfied: transformers in c:\\users\\mojahid hussain\\appdata\\local\\programs\\python\\python39\\lib\\site-packages (4.39.1)\n",
      "Collecting streamlit\n",
      "  Downloading streamlit-1.32.2-py2.py3-none-any.whl (8.1 MB)\n",
      "Requirement already satisfied: requests in c:\\users\\mojahid hussain\\appdata\\local\\programs\\python\\python39\\lib\\site-packages (from transformers) (2.28.1)\n",
      "Requirement already satisfied: tqdm>=4.27 in c:\\users\\mojahid hussain\\appdata\\local\\programs\\python\\python39\\lib\\site-packages (from transformers) (4.66.2)\n",
      "Requirement already satisfied: filelock in c:\\users\\mojahid hussain\\appdata\\local\\programs\\python\\python39\\lib\\site-packages (from transformers) (3.13.1)\n",
      "Requirement already satisfied: numpy>=1.17 in c:\\users\\mojahid hussain\\appdata\\local\\programs\\python\\python39\\lib\\site-packages (from transformers) (1.26.4)\n",
      "Requirement already satisfied: pyyaml>=5.1 in c:\\users\\mojahid hussain\\appdata\\local\\programs\\python\\python39\\lib\\site-packages (from transformers) (6.0.1)\n",
      "Requirement already satisfied: packaging>=20.0 in c:\\users\\mojahid hussain\\appdata\\roaming\\python\\python39\\site-packages (from transformers) (23.2)\n",
      "Requirement already satisfied: regex!=2019.12.17 in c:\\users\\mojahid hussain\\appdata\\local\\programs\\python\\python39\\lib\\site-packages (from transformers) (2023.12.25)\n",
      "Requirement already satisfied: tokenizers<0.19,>=0.14 in c:\\users\\mojahid hussain\\appdata\\local\\programs\\python\\python39\\lib\\site-packages (from transformers) (0.15.2)\n",
      "Requirement already satisfied: safetensors>=0.4.1 in c:\\users\\mojahid hussain\\appdata\\local\\programs\\python\\python39\\lib\\site-packages (from transformers) (0.4.2)\n",
      "Requirement already satisfied: huggingface-hub<1.0,>=0.19.3 in c:\\users\\mojahid hussain\\appdata\\local\\programs\\python\\python39\\lib\\site-packages (from transformers) (0.22.1)\n",
      "Requirement already satisfied: tornado<7,>=6.0.3 in c:\\users\\mojahid hussain\\appdata\\roaming\\python\\python39\\site-packages (from streamlit) (6.4)\n",
      "Requirement already satisfied: blinker<2,>=1.0.0 in c:\\users\\mojahid hussain\\appdata\\local\\programs\\python\\python39\\lib\\site-packages (from streamlit) (1.7.0)\n",
      "Collecting pyarrow>=7.0\n",
      "  Downloading pyarrow-15.0.2-cp39-cp39-win_amd64.whl (24.9 MB)\n",
      "Collecting toml<2,>=0.10.1\n",
      "  Downloading toml-0.10.2-py2.py3-none-any.whl (16 kB)\n",
      "Collecting tenacity<9,>=8.1.0\n",
      "  Downloading tenacity-8.2.3-py3-none-any.whl (24 kB)\n",
      "Requirement already satisfied: typing-extensions<5,>=4.3.0 in c:\\users\\mojahid hussain\\appdata\\roaming\\python\\python39\\site-packages (from streamlit) (4.9.0)\n",
      "Collecting pydeck<1,>=0.8.0b4\n",
      "  Downloading pydeck-0.8.1b0-py2.py3-none-any.whl (4.8 MB)\n",
      "Collecting cachetools<6,>=4.0\n",
      "  Downloading cachetools-5.3.3-py3-none-any.whl (9.3 kB)\n",
      "Collecting rich<14,>=10.14.0\n",
      "  Downloading rich-13.7.1-py3-none-any.whl (240 kB)\n",
      "Collecting pandas<3,>=1.3.0\n",
      "  Downloading pandas-2.2.1-cp39-cp39-win_amd64.whl (11.6 MB)\n",
      "Requirement already satisfied: pillow<11,>=7.1.0 in c:\\users\\mojahid hussain\\appdata\\local\\programs\\python\\python39\\lib\\site-packages (from streamlit) (10.2.0)\n",
      "Collecting watchdog>=2.1.5; platform_system != \"Darwin\"\n",
      "  Downloading watchdog-4.0.0-py3-none-win_amd64.whl (82 kB)\n",
      "Collecting altair<6,>=4.0\n",
      "  Downloading altair-5.2.0-py3-none-any.whl (996 kB)\n",
      "Collecting protobuf<5,>=3.20\n",
      "  Downloading protobuf-4.25.3-cp39-cp39-win_amd64.whl (413 kB)\n",
      "Requirement already satisfied: click<9,>=7.0 in c:\\users\\mojahid hussain\\appdata\\local\\programs\\python\\python39\\lib\\site-packages (from streamlit) (8.1.7)\n",
      "Collecting gitpython!=3.1.19,<4,>=3.0.7\n",
      "  Downloading GitPython-3.1.42-py3-none-any.whl (195 kB)\n",
      "Requirement already satisfied: idna<4,>=2.5 in c:\\users\\mojahid hussain\\appdata\\local\\programs\\python\\python39\\lib\\site-packages (from requests->transformers) (3.4)\n",
      "Requirement already satisfied: charset-normalizer<3,>=2 in c:\\users\\mojahid hussain\\appdata\\local\\programs\\python\\python39\\lib\\site-packages (from requests->transformers) (2.1.1)\n",
      "Requirement already satisfied: certifi>=2017.4.17 in c:\\users\\mojahid hussain\\appdata\\local\\programs\\python\\python39\\lib\\site-packages (from requests->transformers) (2022.12.7)\n",
      "Requirement already satisfied: urllib3<1.27,>=1.21.1 in c:\\users\\mojahid hussain\\appdata\\local\\programs\\python\\python39\\lib\\site-packages (from requests->transformers) (1.26.13)\n",
      "Requirement already satisfied: colorama; platform_system == \"Windows\" in c:\\users\\mojahid hussain\\appdata\\roaming\\python\\python39\\site-packages (from tqdm>=4.27->transformers) (0.4.6)\n",
      "Requirement already satisfied: fsspec>=2023.5.0 in c:\\users\\mojahid hussain\\appdata\\local\\programs\\python\\python39\\lib\\site-packages (from huggingface-hub<1.0,>=0.19.3->transformers) (2024.2.0)\n",
      "Requirement already satisfied: jinja2>=2.10.1 in c:\\users\\mojahid hussain\\appdata\\local\\programs\\python\\python39\\lib\\site-packages (from pydeck<1,>=0.8.0b4->streamlit) (3.1.3)\n",
      "Collecting markdown-it-py>=2.2.0\n",
      "  Downloading markdown_it_py-3.0.0-py3-none-any.whl (87 kB)\n",
      "Requirement already satisfied: pygments<3.0.0,>=2.13.0 in c:\\users\\mojahid hussain\\appdata\\roaming\\python\\python39\\site-packages (from rich<14,>=10.14.0->streamlit) (2.17.2)\n",
      "Collecting pytz>=2020.1\n",
      "  Downloading pytz-2024.1-py2.py3-none-any.whl (505 kB)\n",
      "Requirement already satisfied: python-dateutil>=2.8.2 in c:\\users\\mojahid hussain\\appdata\\roaming\\python\\python39\\site-packages (from pandas<3,>=1.3.0->streamlit) (2.8.2)\n",
      "Collecting tzdata>=2022.7\n",
      "  Downloading tzdata-2024.1-py2.py3-none-any.whl (345 kB)\n",
      "Collecting jsonschema>=3.0\n",
      "  Downloading jsonschema-4.21.1-py3-none-any.whl (85 kB)\n",
      "Collecting toolz\n",
      "  Downloading toolz-0.12.1-py3-none-any.whl (56 kB)\n",
      "Collecting gitdb<5,>=4.0.1\n",
      "  Downloading gitdb-4.0.11-py3-none-any.whl (62 kB)\n",
      "Requirement already satisfied: MarkupSafe>=2.0 in c:\\users\\mojahid hussain\\appdata\\local\\programs\\python\\python39\\lib\\site-packages (from jinja2>=2.10.1->pydeck<1,>=0.8.0b4->streamlit) (2.1.5)\n",
      "Collecting mdurl~=0.1\n",
      "  Downloading mdurl-0.1.2-py3-none-any.whl (10.0 kB)\n",
      "Requirement already satisfied: six>=1.5 in c:\\users\\mojahid hussain\\appdata\\roaming\\python\\python39\\site-packages (from python-dateutil>=2.8.2->pandas<3,>=1.3.0->streamlit) (1.16.0)\n",
      "Collecting rpds-py>=0.7.1\n",
      "  Downloading rpds_py-0.18.0-cp39-none-win_amd64.whl (207 kB)\n",
      "Collecting referencing>=0.28.4\n",
      "  Downloading referencing-0.34.0-py3-none-any.whl (26 kB)\n",
      "Collecting jsonschema-specifications>=2023.03.6\n",
      "  Downloading jsonschema_specifications-2023.12.1-py3-none-any.whl (18 kB)\n",
      "Collecting attrs>=22.2.0\n",
      "  Downloading attrs-23.2.0-py3-none-any.whl (60 kB)\n",
      "Collecting smmap<6,>=3.0.1\n",
      "  Downloading smmap-5.0.1-py3-none-any.whl (24 kB)\n",
      "Installing collected packages: pyarrow, toml, tenacity, pydeck, cachetools, mdurl, markdown-it-py, rich, pytz, tzdata, pandas, watchdog, rpds-py, attrs, referencing, jsonschema-specifications, jsonschema, toolz, altair, protobuf, smmap, gitdb, gitpython, streamlit\n",
      "Successfully installed altair-5.2.0 attrs-23.2.0 cachetools-5.3.3 gitdb-4.0.11 gitpython-3.1.42 jsonschema-4.21.1 jsonschema-specifications-2023.12.1 markdown-it-py-3.0.0 mdurl-0.1.2 pandas-2.2.1 protobuf-4.25.3 pyarrow-15.0.2 pydeck-0.8.1b0 pytz-2024.1 referencing-0.34.0 rich-13.7.1 rpds-py-0.18.0 smmap-5.0.1 streamlit-1.32.2 tenacity-8.2.3 toml-0.10.2 toolz-0.12.1 tzdata-2024.1 watchdog-4.0.0\n",
      "\n"
     ]
    },
    {
     "name": "stderr",
     "output_type": "stream",
     "text": [
      "  WARNING: The script markdown-it.exe is installed in 'c:\\Users\\MOJAHID HUSSAIN\\AppData\\Local\\Programs\\Python\\Python39\\Scripts' which is not on PATH.\n",
      "  Consider adding this directory to PATH or, if you prefer to suppress this warning, use --no-warn-script-location.\n",
      "  WARNING: The script watchmedo.exe is installed in 'c:\\Users\\MOJAHID HUSSAIN\\AppData\\Local\\Programs\\Python\\Python39\\Scripts' which is not on PATH.\n",
      "  Consider adding this directory to PATH or, if you prefer to suppress this warning, use --no-warn-script-location.\n",
      "  WARNING: The script jsonschema.exe is installed in 'c:\\Users\\MOJAHID HUSSAIN\\AppData\\Local\\Programs\\Python\\Python39\\Scripts' which is not on PATH.\n",
      "  Consider adding this directory to PATH or, if you prefer to suppress this warning, use --no-warn-script-location.\n",
      "  WARNING: The script streamlit.exe is installed in 'c:\\Users\\MOJAHID HUSSAIN\\AppData\\Local\\Programs\\Python\\Python39\\Scripts' which is not on PATH.\n",
      "  Consider adding this directory to PATH or, if you prefer to suppress this warning, use --no-warn-script-location.\n",
      "WARNING: You are using pip version 20.2.3; however, version 24.0 is available.\n",
      "You should consider upgrading via the 'c:\\Users\\MOJAHID HUSSAIN\\AppData\\Local\\Programs\\Python\\Python39\\python.exe -m pip install --upgrade pip' command.\n"
     ]
    }
   ],
   "source": [
    "pip install transformers streamlit"
   ]
  },
  {
   "cell_type": "code",
   "execution_count": 1,
   "metadata": {},
   "outputs": [
    {
     "name": "stdout",
     "output_type": "stream",
     "text": [
      "I have a headache and fever. I have a headache and fever. I have a headache and fever. I have a headache and fever. I have a headache and fever. I have a headache and fever. I have a headache and fever. I have a headache and fever. I have a headache and fever. I have a headache and fever. I have a headache and fever. I have a headache and fever. I have a headache and fever. I have a headache and fever. I have\n"
     ]
    }
   ],
   "source": [
    "import requests\n",
    "\n",
    "url = 'http://127.0.0.1:5000/predict'\n",
    "data = {'input_text': 'I have a headache and fever.'}\n",
    "\n",
    "response = requests.post(url, json=data)\n",
    "print(response.json()['response'])"
   ]
  }
 ],
 "metadata": {
  "kernelspec": {
   "display_name": "Python 3",
   "language": "python",
   "name": "python3"
  },
  "language_info": {
   "codemirror_mode": {
    "name": "ipython",
    "version": 3
   },
   "file_extension": ".py",
   "mimetype": "text/x-python",
   "name": "python",
   "nbconvert_exporter": "python",
   "pygments_lexer": "ipython3",
   "version": "3.9.0"
  }
 },
 "nbformat": 4,
 "nbformat_minor": 2
}
